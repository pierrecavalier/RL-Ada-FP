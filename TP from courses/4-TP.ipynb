{
 "cells": [
  {
   "cell_type": "markdown",
   "id": "8307621a-1452-456d-b616-9f06a9a2a816",
   "metadata": {
    "collapsed": false
   },
   "source": [
    "Ce TP fait suite au précédent et reprend le problème du labyrinthe. On copie-collera tout le code nécessaire, ou alternativement, on continuera sur le notebook précédent. On travaillera avec un labyrinthe tiré une fois pour toutes.\n",
    "\n",
    "*Question 1*: Reprendre l'itération état-valeur synchrone pour le contrôle et déterminer une politique optimale (avec un grand nombre d'itérations). Déterminer également le nombre de mises à jour au bout duquel cette politique optimale est obtenue pour la première fois (une itération de l'opérateur $B_*$ correspond à $\\mathcal{S}$ mises à jour)."
   ]
  },
  {
   "cell_type": "markdown",
   "id": "da2b4788-feb7-428b-a691-c12c3b278c8e",
   "metadata": {
    "collapsed": false
   },
   "source": [
    "*Question 2*: Écrire une fonction `update_state` qui effectue une mise à jour d'itération état-valeur pour le contrôle seulement pour l'état donné en argument. La mise à jour sera faite sur une variable globale `v` qui sera définie plus tard."
   ]
  },
  {
   "cell_type": "code",
   "execution_count": 1,
   "id": "eb7d0ad1-a629-4f05-8cbd-7ad152abf53c",
   "metadata": {
    "collapsed": false
   },
   "outputs": [],
   "source": [
    "def update_state(s):\n",
    "    global v\n",
    "\n",
    "    # compléter\n",
    "\n",
    "    v[s] = #compléter\n",
    "\n",
    "    return None"
   ]
  },
  {
   "cell_type": "markdown",
   "id": "4d248c77-e793-4cc2-9c55-97ed435e94b6",
   "metadata": {
    "collapsed": false
   },
   "source": [
    "*Question 3*: Effectuer une itération état-valeur asynchrone qui met à jour un état par itération, et qui parcourt les états de façon cyclique. Combien de mises à jour sont-elles nécessaires pour obtenir une politique optimale ? Essayer différents ordres de parcours des états."
   ]
  },
  {
   "cell_type": "code",
   "execution_count": null,
   "id": "5c7fd7c3-bf8a-4a95-b047-912f05c4c08c",
   "metadata": {
    "collapsed": false
   },
   "outputs": [],
   "source": [
    "v = np.random.random(maze.shape)\n",
    "\n",
    "# compléter"
   ]
  },
  {
   "cell_type": "markdown",
   "id": "58a8550d-73c4-4369-bc69-d278d7f5016b",
   "metadata": {
    "collapsed": false
   },
   "source": [
    "On souhaite à présent utiliser la structure du problème pour parcourir les états de façon plus efficace et diminuer le nombre de mises à jour permettant d'obtenir une politique optimale.\n",
    "\n",
    "Pour un labyrinthe donné, il existe certains états $s$ pour lesquels on connaît immédiatement la valeur optimale $v_*(s)$.\n",
    "\n",
    "*Question 4*: Écrire une fonction qui prend en argument une function état-valeur, et qui en renvoie une modifiée, où les valeurs optimales connues a priori ont été renseignées."
   ]
  },
  {
   "cell_type": "code",
   "execution_count": null,
   "id": "e796f58f-6267-47e5-8cf6-6e726528c241",
   "metadata": {
    "collapsed": false
   },
   "outputs": [],
   "source": [
    "def set_known_values(v):\n",
    "    # compléter\n",
    "    return v"
   ]
  },
  {
   "cell_type": "markdown",
   "id": "25d240f1-c7a2-48d5-9c23-47c1b0b4c7eb",
   "metadata": {
    "collapsed": false
   },
   "source": [
    "Un autre idée importante est que la valeur avec laquelle un état $s$ est mis à jour ne dépend que d'un petit nombre d'autres états, appelés \"sucesseurs\", c'est-à-dire ceux vers lesquels il existe une transition avec probabilité non-nulle. Autrement dit, les $s'$ tels qu'il existe une action $a$ telle que $p(r,s'|s,a)>0$. On dit alors également que $s$ est un prédecesseur de $s'$.\n",
    "\n",
    "De plus, la valeur d'un état, après une première mise à jour, n'a besoin d'être à nouveau mise à jour que si la valeur d'un sucesseur a été modifiée.\n",
    "\n",
    "*Question 5*: Écrire une fonction `predecessors` qui renvoie sous la forme d'une liste l'ensemble des prédecesseurs d'un état $s$ donné en argument. Ne pas oublier qu'un état peut être un prédecesseur pour lui-même."
   ]
  },
  {
   "cell_type": "code",
   "execution_count": null,
   "id": "39ebf756-68bd-4479-969e-04a4f0b04ecb",
   "metadata": {
    "collapsed": false
   },
   "outputs": [],
   "source": [
    "def predecessors(s):\n",
    "    # compléter"
   ]
  },
  {
   "cell_type": "markdown",
   "id": "213ca718-bc6f-48df-bbff-3856dc18a372",
   "metadata": {
    "collapsed": false
   },
   "source": [
    "On souhaite effectuer des mises à jour sucessives, divisées en phrases (ou \"époques\"), mettant en oeuvre les idées suivantes:\n",
    "- chaque état sera mis à jour au plus une fois pendant une époque;\n",
    "- à chaque fois que la valeur d'un état est mis à jour (et que la mise à jour a entraîné une modification de la valeur), on considère chacun de ses prédecesseurs: s'il n'a pas encore été mis à jour lors de cette époque, il est ajouté à une liste d'états à mettre à jour lors de l'époque courante; s'il a déjà été mis à jour lors de cette époque, il est ajouté à une liste d'états à mettre à jour lors de l'époque suivante;\n",
    "- les listes d'état à mettre à jour seront utilisées en FIFO (first in, first out): on ajoute un nouvel élement en fin de liste avec `.append()`, et on retire un élément en début de liste avec `.pop()`;\n",
    "- on commence la première époque par les prédecesseurs de l'état \"d'arrivée\".\n",
    "\n",
    "*Question 6*: Modifier la fonction `update_state` afin de mettre en oeuvre ces idées. La fonction interagira avec les variables globales `updated_states`, `states_to_update`, `states_to_update_next_epoch`, `epoch`."
   ]
  },
  {
   "cell_type": "code",
   "execution_count": null,
   "id": "c36285f6-057f-4c88-88ea-d78041560d7f",
   "metadata": {
    "collapsed": false
   },
   "outputs": [],
   "source": [
    "def update_state(s):\n",
    "    global v, updated_states, states_to_update, states_to_update_next_epoch, epoch\n",
    "\n",
    "    # compléter"
   ]
  },
  {
   "cell_type": "markdown",
   "id": "a19ffb06-f658-4dec-96ab-b94b882bc813",
   "metadata": {
    "collapsed": false
   },
   "source": [
    "*Question 7*: Mettre en oeuvre la démarche décrite ci-dessus et observer le nombre de mises à jour nécessaires pour obtenir une politique optimale."
   ]
  },
  {
   "cell_type": "code",
   "execution_count": null,
   "id": "59900a87-5ac5-44bc-82f7-f3d2b903e202",
   "metadata": {
    "collapsed": false
   },
   "outputs": [],
   "source": [
    "nb_epochs = 100\n",
    "v = np.random.random(maze.shape)\n",
    "v = set_known_values(v)\n",
    "\n",
    "# compléter\n",
    "\n",
    "for epoch in range(nb_epochs):\n",
    "    #compléter"
   ]
  },
  {
   "cell_type": "markdown",
   "id": "21e60d76-b99f-4a47-ba63-9dab2c30bd81",
   "metadata": {
    "collapsed": false
   },
   "source": [
    "*Question 8*: Mettre en oeuvre une variante où les mises à jour ne sont pas divisées en époques, et où les prédécesseurs à mettre à jour sont tous ajoutés à la même liste, et comparer le nombre de mises à jour nécessaires pour obtenir une politique optimale. Expliquer la différence."
   ]
  }
 ],
 "metadata": {
  "kernelspec": {
   "argv": [
    "python",
    "-m",
    "ipykernel_launcher",
    "-f",
    "{connection_file}"
   ],
   "display_name": "Python 3 (ipykernel)",
   "env": null,
   "interrupt_mode": "signal",
   "language": "python",
   "metadata": {
    "debugger": true
   },
   "name": "python3"
  },
  "name": "Untitled.ipynb"
 },
 "nbformat": 4,
 "nbformat_minor": 5
}
